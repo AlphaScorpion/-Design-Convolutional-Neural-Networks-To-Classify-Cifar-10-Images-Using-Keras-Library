{
  "nbformat": 4,
  "nbformat_minor": 0,
  "metadata": {
    "colab": {
      "name": "cifar_arch_final1.ipynb",
      "provenance": []
    },
    "kernelspec": {
      "name": "python3",
      "display_name": "Python 3"
    },
    "language_info": {
      "name": "python"
    }
  },
  "cells": [
    {
      "cell_type": "markdown",
      "source": [
        "<b>Name:</b> Aishwarya Bhavsar<br>\n",
        "<b>CSULBID:</b> 029371509<br>\n",
        "CECS 551 Assignment 7"
      ],
      "metadata": {
        "id": "Kn0f6wgHrsV5"
      }
    },
    {
      "cell_type": "markdown",
      "source": [
        "**Import Libraries And Download Dataset**\n"
      ],
      "metadata": {
        "id": "t5KhqFkFrm35"
      }
    },
    {
      "cell_type": "code",
      "execution_count": 1,
      "metadata": {
        "id": "jZo28tXymDe9"
      },
      "outputs": [],
      "source": [
        "import numpy as np\n",
        "import matplotlib.pyplot as plt"
      ]
    },
    {
      "cell_type": "code",
      "source": [
        "from keras import models\n",
        "from keras import layers\n",
        "from keras.datasets import cifar10\n",
        "from tensorflow.keras.utils import to_categorical\n",
        "from keras.callbacks import ReduceLROnPlateau"
      ],
      "metadata": {
        "id": "Htt9HakemH8j"
      },
      "execution_count": 3,
      "outputs": []
    },
    {
      "cell_type": "code",
      "source": [
        "(X_train, y_train), (X_test, y_test) = cifar10.load_data()"
      ],
      "metadata": {
        "colab": {
          "base_uri": "https://localhost:8080/"
        },
        "id": "m19gQWxcmH_h",
        "outputId": "efdf69b8-27b0-4c65-ce74-a594904893da"
      },
      "execution_count": 4,
      "outputs": [
        {
          "output_type": "stream",
          "name": "stdout",
          "text": [
            "Downloading data from https://www.cs.toronto.edu/~kriz/cifar-10-python.tar.gz\n",
            "170500096/170498071 [==============================] - 2s 0us/step\n",
            "170508288/170498071 [==============================] - 2s 0us/step\n"
          ]
        }
      ]
    },
    {
      "cell_type": "markdown",
      "source": [
        "**Normalize The Data And Convert It RGB To GRAYSCALE Image For Fast Training**"
      ],
      "metadata": {
        "id": "TLXU9Z_or8_W"
      }
    },
    {
      "cell_type": "code",
      "source": [
        "# Preprocessing the data\n",
        "\n",
        "X_train.shape, X_test.shape"
      ],
      "metadata": {
        "colab": {
          "base_uri": "https://localhost:8080/"
        },
        "id": "dBE0boHFmICk",
        "outputId": "adb257e7-f742-476a-96c6-aa60749f6563"
      },
      "execution_count": 5,
      "outputs": [
        {
          "output_type": "execute_result",
          "data": {
            "text/plain": [
              "((50000, 32, 32, 3), (10000, 32, 32, 3))"
            ]
          },
          "metadata": {},
          "execution_count": 5
        }
      ]
    },
    {
      "cell_type": "code",
      "source": [
        "X_train = X_train.astype('float32')\n",
        "X_train /= 255\n",
        "X_test = X_test.astype('float32')\n",
        "X_test /= 255"
      ],
      "metadata": {
        "id": "hX3IRCa4mIFJ"
      },
      "execution_count": 6,
      "outputs": []
    },
    {
      "cell_type": "code",
      "source": [
        "X_train.shape, X_test.shape"
      ],
      "metadata": {
        "colab": {
          "base_uri": "https://localhost:8080/"
        },
        "id": "H7QXMPMwmIH9",
        "outputId": "ad360594-66d3-4a8c-a0f6-0038d5e43b3a"
      },
      "execution_count": 7,
      "outputs": [
        {
          "output_type": "execute_result",
          "data": {
            "text/plain": [
              "((50000, 32, 32, 3), (10000, 32, 32, 3))"
            ]
          },
          "metadata": {},
          "execution_count": 7
        }
      ]
    },
    {
      "cell_type": "code",
      "source": [
        "# Preprocessing the Labels\n",
        "\n",
        "y_train.shape, y_test.shape"
      ],
      "metadata": {
        "colab": {
          "base_uri": "https://localhost:8080/"
        },
        "id": "phYdpYQVmeak",
        "outputId": "3ea0eb9f-03a8-4d08-8161-cd78ff05bb97"
      },
      "execution_count": 8,
      "outputs": [
        {
          "output_type": "execute_result",
          "data": {
            "text/plain": [
              "((50000, 1), (10000, 1))"
            ]
          },
          "metadata": {},
          "execution_count": 8
        }
      ]
    },
    {
      "cell_type": "code",
      "source": [
        "y_train = to_categorical(y_train, num_classes = 10)\n",
        "y_test = to_categorical(y_test, num_classes = 10)"
      ],
      "metadata": {
        "id": "c-MfsH6CmeXM"
      },
      "execution_count": 9,
      "outputs": []
    },
    {
      "cell_type": "code",
      "source": [
        "y_train.shape, y_test.shape"
      ],
      "metadata": {
        "colab": {
          "base_uri": "https://localhost:8080/"
        },
        "id": "4x-ECJyvmeUm",
        "outputId": "d0f69cd4-8dc7-41aa-b0bd-f7260c32026b"
      },
      "execution_count": 10,
      "outputs": [
        {
          "output_type": "execute_result",
          "data": {
            "text/plain": [
              "((50000, 10), (10000, 10))"
            ]
          },
          "metadata": {},
          "execution_count": 10
        }
      ]
    },
    {
      "cell_type": "markdown",
      "source": [
        "**(a) Split the training dataset into sub training and validation sets randomly. Use 1/5 of training dataset as validation set. Use the ‘accuracy’ as metric. Please repeat 10 times of random split and aggregate (average) the accuracy**"
      ],
      "metadata": {
        "id": "vVk5wUDMtUIh"
      }
    },
    {
      "cell_type": "code",
      "source": [
        "# Spiltting training and validation sets\n",
        "\n",
        "X_val = X_train[:10000]\n",
        "y_val = y_train[:10000]\n",
        "\n",
        "X_train = X_train[10000:]\n",
        "y_train = y_train[10000:]"
      ],
      "metadata": {
        "id": "T0qDtQ3jmeR_"
      },
      "execution_count": 11,
      "outputs": []
    },
    {
      "cell_type": "code",
      "source": [
        "X_train.shape, y_train.shape, X_val.shape, y_val.shape"
      ],
      "metadata": {
        "colab": {
          "base_uri": "https://localhost:8080/"
        },
        "id": "loY62MbXmePX",
        "outputId": "33c3776c-a02a-439c-92b2-e84a8ed8dd35"
      },
      "execution_count": 12,
      "outputs": [
        {
          "output_type": "execute_result",
          "data": {
            "text/plain": [
              "((40000, 32, 32, 3), (40000, 10), (10000, 32, 32, 3), (10000, 10))"
            ]
          },
          "metadata": {},
          "execution_count": 12
        }
      ]
    },
    {
      "cell_type": "markdown",
      "source": [
        "<b>(b) Model evaluation<br>\n",
        "• Evaluate multiple combinations of activation function, optimizer, hyper-parameter,generalization (including data augmentation), and architecture.<br>\n",
        "• Using sub training and validation datasets, find the best models.<br>\n",
        "• Report 3 best models in terms of test accuracy."
      ],
      "metadata": {
        "id": "DH7Zuhrb_tAX"
      }
    },
    {
      "cell_type": "markdown",
      "source": [
        "<b>Define The Model</b>"
      ],
      "metadata": {
        "id": "szLveDjOtsZ8"
      }
    },
    {
      "cell_type": "code",
      "source": [
        "# Building the model\n",
        "\n",
        "model = models.Sequential()\n",
        "\n",
        "model.add(layers.Conv2D(32, (3, 3), activation = 'relu', padding = 'same', input_shape = (32, 32, 3)))\n",
        "model.add(layers.BatchNormalization())\n",
        "model.add(layers.Dropout(0.25))\n",
        "model.add(layers.Conv2D(32, (3, 3), activation = 'relu', padding = 'same'))\n",
        "model.add(layers.BatchNormalization())\n",
        "model.add(layers.MaxPooling2D(2, 2))\n",
        "\n",
        "model.add(layers.Conv2D(64, (3, 3), activation = 'relu', padding = 'same'))\n",
        "model.add(layers.BatchNormalization())\n",
        "model.add(layers.Dropout(0.25))\n",
        "model.add(layers.Conv2D(64, (3, 3), activation = 'relu', padding = 'same'))\n",
        "model.add(layers.BatchNormalization())\n",
        "model.add(layers.MaxPooling2D(2, 2))\n",
        "\n",
        "model.add(layers.Conv2D(128, (3, 3), activation = 'relu', padding = 'same'))\n",
        "model.add(layers.BatchNormalization())\n",
        "model.add(layers.Dropout(0.25))\n",
        "model.add(layers.Conv2D(128, (3, 3), activation = 'relu', padding = 'same'))\n",
        "model.add(layers.BatchNormalization())\n",
        "model.add(layers.MaxPooling2D(2, 2))\n",
        "\n",
        "model.add(layers.Flatten())\n",
        "model.add(layers.Dense(256, activation = 'relu'))\n",
        "model.add(layers.BatchNormalization())\n",
        "model.add(layers.Dropout(0.5))\n",
        "model.add(layers.Dense(10, activation = 'softmax'))\n",
        "model.summary()\n"
      ],
      "metadata": {
        "colab": {
          "base_uri": "https://localhost:8080/"
        },
        "id": "RDH-Ex-7mu3W",
        "outputId": "a7b1bd02-44d4-4cdb-ae68-7c407e491353"
      },
      "execution_count": 13,
      "outputs": [
        {
          "output_type": "stream",
          "name": "stdout",
          "text": [
            "Model: \"sequential\"\n",
            "_________________________________________________________________\n",
            " Layer (type)                Output Shape              Param #   \n",
            "=================================================================\n",
            " conv2d (Conv2D)             (None, 32, 32, 32)        896       \n",
            "                                                                 \n",
            " batch_normalization (BatchN  (None, 32, 32, 32)       128       \n",
            " ormalization)                                                   \n",
            "                                                                 \n",
            " dropout (Dropout)           (None, 32, 32, 32)        0         \n",
            "                                                                 \n",
            " conv2d_1 (Conv2D)           (None, 32, 32, 32)        9248      \n",
            "                                                                 \n",
            " batch_normalization_1 (Batc  (None, 32, 32, 32)       128       \n",
            " hNormalization)                                                 \n",
            "                                                                 \n",
            " max_pooling2d (MaxPooling2D  (None, 16, 16, 32)       0         \n",
            " )                                                               \n",
            "                                                                 \n",
            " conv2d_2 (Conv2D)           (None, 16, 16, 64)        18496     \n",
            "                                                                 \n",
            " batch_normalization_2 (Batc  (None, 16, 16, 64)       256       \n",
            " hNormalization)                                                 \n",
            "                                                                 \n",
            " dropout_1 (Dropout)         (None, 16, 16, 64)        0         \n",
            "                                                                 \n",
            " conv2d_3 (Conv2D)           (None, 16, 16, 64)        36928     \n",
            "                                                                 \n",
            " batch_normalization_3 (Batc  (None, 16, 16, 64)       256       \n",
            " hNormalization)                                                 \n",
            "                                                                 \n",
            " max_pooling2d_1 (MaxPooling  (None, 8, 8, 64)         0         \n",
            " 2D)                                                             \n",
            "                                                                 \n",
            " conv2d_4 (Conv2D)           (None, 8, 8, 128)         73856     \n",
            "                                                                 \n",
            " batch_normalization_4 (Batc  (None, 8, 8, 128)        512       \n",
            " hNormalization)                                                 \n",
            "                                                                 \n",
            " dropout_2 (Dropout)         (None, 8, 8, 128)         0         \n",
            "                                                                 \n",
            " conv2d_5 (Conv2D)           (None, 8, 8, 128)         147584    \n",
            "                                                                 \n",
            " batch_normalization_5 (Batc  (None, 8, 8, 128)        512       \n",
            " hNormalization)                                                 \n",
            "                                                                 \n",
            " max_pooling2d_2 (MaxPooling  (None, 4, 4, 128)        0         \n",
            " 2D)                                                             \n",
            "                                                                 \n",
            " flatten (Flatten)           (None, 2048)              0         \n",
            "                                                                 \n",
            " dense (Dense)               (None, 256)               524544    \n",
            "                                                                 \n",
            " batch_normalization_6 (Batc  (None, 256)              1024      \n",
            " hNormalization)                                                 \n",
            "                                                                 \n",
            " dropout_3 (Dropout)         (None, 256)               0         \n",
            "                                                                 \n",
            " dense_1 (Dense)             (None, 10)                2570      \n",
            "                                                                 \n",
            "=================================================================\n",
            "Total params: 816,938\n",
            "Trainable params: 815,530\n",
            "Non-trainable params: 1,408\n",
            "_________________________________________________________________\n"
          ]
        }
      ]
    },
    {
      "cell_type": "markdown",
      "source": [
        "**Compile The Model**"
      ],
      "metadata": {
        "id": "WJ0J0CHwt47G"
      }
    },
    {
      "cell_type": "code",
      "source": [
        "# Compiling the Model\n",
        "\n",
        "model.compile(optimizer = 'rmsprop', loss = 'categorical_crossentropy', metrics = ['accuracy'])"
      ],
      "metadata": {
        "id": "f2oRQiLymuz8"
      },
      "execution_count": 14,
      "outputs": []
    },
    {
      "cell_type": "code",
      "source": [
        "# Creating the Callback\n",
        "\n",
        "callback = [ReduceLROnPlateau(monitor = 'val_loss', patience = 2, factor = 0.1, min_lr = 0.001)]"
      ],
      "metadata": {
        "id": "RWr41cPBmuwq"
      },
      "execution_count": 15,
      "outputs": []
    },
    {
      "cell_type": "markdown",
      "source": [
        "<b>Data Augmentation</b>"
      ],
      "metadata": {
        "id": "BJbFpnXj_v63"
      }
    },
    {
      "cell_type": "code",
      "source": [
        "#Setting up a data augmentation configuration via ImageDataGenerator\n",
        "from keras.preprocessing.image import ImageDataGenerator\n",
        "datagen = ImageDataGenerator(rotation_range=40,width_shift_range=0.2,height_shift_range=0.2,shear_range=0.2,zoom_range=0.2,horizontal_flip=True,\n",
        "fill_mode='nearest')"
      ],
      "metadata": {
        "id": "zYcaR8lz_1ZA"
      },
      "execution_count": 1,
      "outputs": []
    },
    {
      "cell_type": "code",
      "source": [
        "\n",
        "#Module with imagepreprocessing utilities\n",
        "from keras.preprocessing import image"
      ],
      "metadata": {
        "id": "Tucz2rS2_75m"
      },
      "execution_count": 2,
      "outputs": []
    },
    {
      "cell_type": "markdown",
      "source": [
        "<b>Fit The Model</b>"
      ],
      "metadata": {
        "id": "vKZ9T1C0v5NI"
      }
    },
    {
      "cell_type": "code",
      "source": [
        "# Training\n",
        "\n",
        "history = model.fit(X_train, y_train, epochs = 16, batch_size = 32, validation_data = (X_val, y_val), callbacks = callback)"
      ],
      "metadata": {
        "colab": {
          "base_uri": "https://localhost:8080/"
        },
        "id": "kz_bW--emutt",
        "outputId": "a07f760b-a6ca-41fa-aff7-8891df0e102c"
      },
      "execution_count": 16,
      "outputs": [
        {
          "output_type": "stream",
          "name": "stdout",
          "text": [
            "Epoch 1/16\n",
            "1250/1250 [==============================] - 391s 311ms/step - loss: 1.5840 - accuracy: 0.4602 - val_loss: 1.0419 - val_accuracy: 0.6316 - lr: 0.0010\n",
            "Epoch 2/16\n",
            "1250/1250 [==============================] - 387s 310ms/step - loss: 0.9831 - accuracy: 0.6571 - val_loss: 1.0392 - val_accuracy: 0.6545 - lr: 0.0010\n",
            "Epoch 3/16\n",
            "1250/1250 [==============================] - 388s 311ms/step - loss: 0.8097 - accuracy: 0.7207 - val_loss: 0.7412 - val_accuracy: 0.7400 - lr: 0.0010\n",
            "Epoch 4/16\n",
            "1250/1250 [==============================] - 391s 313ms/step - loss: 0.7099 - accuracy: 0.7526 - val_loss: 0.7474 - val_accuracy: 0.7418 - lr: 0.0010\n",
            "Epoch 5/16\n",
            "1250/1250 [==============================] - 391s 313ms/step - loss: 0.6365 - accuracy: 0.7809 - val_loss: 0.6650 - val_accuracy: 0.7739 - lr: 0.0010\n",
            "Epoch 6/16\n",
            "1250/1250 [==============================] - 391s 312ms/step - loss: 0.5775 - accuracy: 0.8004 - val_loss: 0.6497 - val_accuracy: 0.7811 - lr: 0.0010\n",
            "Epoch 7/16\n",
            "1250/1250 [==============================] - 392s 314ms/step - loss: 0.5295 - accuracy: 0.8166 - val_loss: 0.6120 - val_accuracy: 0.7923 - lr: 0.0010\n",
            "Epoch 8/16\n",
            "1250/1250 [==============================] - 390s 312ms/step - loss: 0.4865 - accuracy: 0.8328 - val_loss: 0.6183 - val_accuracy: 0.7966 - lr: 0.0010\n",
            "Epoch 9/16\n",
            "1250/1250 [==============================] - 392s 313ms/step - loss: 0.4543 - accuracy: 0.8436 - val_loss: 0.5467 - val_accuracy: 0.8158 - lr: 0.0010\n",
            "Epoch 10/16\n",
            "1250/1250 [==============================] - 386s 309ms/step - loss: 0.4197 - accuracy: 0.8541 - val_loss: 0.5500 - val_accuracy: 0.8154 - lr: 0.0010\n",
            "Epoch 11/16\n",
            "1250/1250 [==============================] - 388s 310ms/step - loss: 0.3954 - accuracy: 0.8651 - val_loss: 0.5346 - val_accuracy: 0.8234 - lr: 0.0010\n",
            "Epoch 12/16\n",
            "1250/1250 [==============================] - 390s 312ms/step - loss: 0.3782 - accuracy: 0.8708 - val_loss: 0.5428 - val_accuracy: 0.8225 - lr: 0.0010\n",
            "Epoch 13/16\n",
            "1250/1250 [==============================] - 388s 310ms/step - loss: 0.3552 - accuracy: 0.8785 - val_loss: 0.5829 - val_accuracy: 0.8070 - lr: 0.0010\n",
            "Epoch 14/16\n",
            "1250/1250 [==============================] - 385s 308ms/step - loss: 0.3313 - accuracy: 0.8852 - val_loss: 0.6032 - val_accuracy: 0.8105 - lr: 0.0010\n",
            "Epoch 15/16\n",
            "1250/1250 [==============================] - 383s 307ms/step - loss: 0.3223 - accuracy: 0.8900 - val_loss: 0.5317 - val_accuracy: 0.8287 - lr: 0.0010\n",
            "Epoch 16/16\n",
            "1250/1250 [==============================] - 383s 307ms/step - loss: 0.3021 - accuracy: 0.8951 - val_loss: 0.5660 - val_accuracy: 0.8173 - lr: 0.0010\n"
          ]
        }
      ]
    },
    {
      "cell_type": "markdown",
      "source": [
        "<b>Training Accuracy</b><br>\n",
        "<b>94.31%<b>"
      ],
      "metadata": {
        "id": "auGR0cy1xWZI"
      }
    },
    {
      "cell_type": "code",
      "source": [
        "_, accuracy = model.evaluate(X_train, y_train)\n",
        "print('Accuracy: %.2f' % (accuracy*100))"
      ],
      "metadata": {
        "colab": {
          "base_uri": "https://localhost:8080/"
        },
        "id": "b_cvg2NEQ4C5",
        "outputId": "a6fc226d-04ab-4d78-c67f-ffa76aa36067"
      },
      "execution_count": 25,
      "outputs": [
        {
          "output_type": "stream",
          "name": "stdout",
          "text": [
            "1250/1250 [==============================] - 87s 69ms/step - loss: 0.1869 - accuracy: 0.9431\n",
            "Accuracy: 94.31\n"
          ]
        }
      ]
    },
    {
      "cell_type": "markdown",
      "source": [
        "<b>Test Accuracy</b><br>\n",
        "<b>81.06%<b>"
      ],
      "metadata": {
        "id": "Wegq72QJxZzn"
      }
    },
    {
      "cell_type": "code",
      "source": [
        "_, accuracy = model.evaluate(X_test, y_test)\n",
        "print('Accuracy: %.2f' % (accuracy*100))"
      ],
      "metadata": {
        "colab": {
          "base_uri": "https://localhost:8080/"
        },
        "id": "pHoYcm91RR-p",
        "outputId": "83f2765e-46e2-409c-9a6a-0ceeda123dce"
      },
      "execution_count": 26,
      "outputs": [
        {
          "output_type": "stream",
          "name": "stdout",
          "text": [
            "313/313 [==============================] - 22s 69ms/step - loss: 0.5807 - accuracy: 0.8106\n",
            "Accuracy: 81.06\n"
          ]
        }
      ]
    },
    {
      "cell_type": "code",
      "source": [
        "acc = history.history['accuracy']\n",
        "val_acc = history.history['val_accuracy']\n",
        "loss = history.history['loss']\n",
        "val_loss = history.history['val_loss']"
      ],
      "metadata": {
        "id": "qilDzSn9mILq"
      },
      "execution_count": 22,
      "outputs": []
    },
    {
      "cell_type": "code",
      "source": [
        "epochs = range(1, len(acc) + 1)\n",
        "\n",
        "plt.plot(epochs, loss, 'co', label='Training loss')\n",
        "plt.plot(epochs, val_loss, 'c', label='Validation loss')\n",
        "plt.title('Training and validation loss')\n",
        "plt.legend()\n",
        "plt.show()"
      ],
      "metadata": {
        "colab": {
          "base_uri": "https://localhost:8080/",
          "height": 281
        },
        "id": "8tikcA6fQlD8",
        "outputId": "7b946142-0c08-4180-a0d6-dec112b6be5a"
      },
      "execution_count": 23,
      "outputs": [
        {
          "output_type": "display_data",
          "data": {
            "text/plain": [
              "<Figure size 432x288 with 1 Axes>"
            ],
            "image/png": "[encoded data removed]"
          },
          "metadata": {
            "needs_background": "light"
          }
        }
      ]
    },
    {
      "cell_type": "code",
      "source": [
        ""
      ],
      "metadata": {
        "id": "fZ07gQ3QQlPQ"
      },
      "execution_count": null,
      "outputs": []
    },
    {
      "cell_type": "code",
      "source": [
        ""
      ],
      "metadata": {
        "id": "0iDGFYEdQlX6"
      },
      "execution_count": null,
      "outputs": []
    }
  ]
}