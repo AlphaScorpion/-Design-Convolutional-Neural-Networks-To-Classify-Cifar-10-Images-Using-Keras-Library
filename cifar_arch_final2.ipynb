{
  "nbformat": 4,
  "nbformat_minor": 0,
  "metadata": {
    "colab": {
      "name": "cifar_arch_final2.ipynb",
      "provenance": []
    },
    "kernelspec": {
      "name": "python3",
      "display_name": "Python 3"
    },
    "language_info": {
      "name": "python"
    }
  },
  "cells": [
    {
      "cell_type": "markdown",
      "source": [
        "<b>Name:</b> Aishwarya Bhavsar<br>\n",
        "<b>CSULBID:</b> 029371509<br>\n",
        "CECS 551 Assignment 7"
      ],
      "metadata": {
        "id": "RbqtxZhJsOWS"
      }
    },
    {
      "cell_type": "markdown",
      "source": [
        "**Import Libraries And Download Dataset**"
      ],
      "metadata": {
        "id": "9pWG1vzssJSp"
      }
    },
    {
      "cell_type": "code",
      "execution_count": 1,
      "metadata": {
        "id": "w55j-k_mnjvQ"
      },
      "outputs": [],
      "source": [
        "import numpy as np\n",
        "import matplotlib.pyplot as plt"
      ]
    },
    {
      "cell_type": "code",
      "source": [
        "from keras import models\n",
        "from keras import layers\n",
        "from keras.datasets import cifar10\n",
        "from tensorflow.keras.utils import to_categorical\n",
        "from keras.callbacks import ReduceLROnPlateau"
      ],
      "metadata": {
        "id": "dsdyHhFmpmAo"
      },
      "execution_count": 2,
      "outputs": []
    },
    {
      "cell_type": "code",
      "source": [
        "(X_train, y_train), (X_test, y_test) = cifar10.load_data()"
      ],
      "metadata": {
        "colab": {
          "base_uri": "https://localhost:8080/"
        },
        "id": "2NoIaxhGpuZU",
        "outputId": "903cdadb-3ab3-4bfd-eca9-f60994a44cd3"
      },
      "execution_count": 3,
      "outputs": [
        {
          "output_type": "stream",
          "name": "stdout",
          "text": [
            "Downloading data from https://www.cs.toronto.edu/~kriz/cifar-10-python.tar.gz\n",
            "170500096/170498071 [==============================] - 2s 0us/step\n",
            "170508288/170498071 [==============================] - 2s 0us/step\n"
          ]
        }
      ]
    },
    {
      "cell_type": "markdown",
      "source": [
        "**Normalize The Data And Convert It RGB To GRAYSCALE Image For Fast Training**"
      ],
      "metadata": {
        "id": "HNX2M1m1r_z3"
      }
    },
    {
      "cell_type": "code",
      "source": [
        "# Preprocessing the data\n",
        "\n",
        "X_train.shape, X_test.shape"
      ],
      "metadata": {
        "colab": {
          "base_uri": "https://localhost:8080/"
        },
        "id": "c_yAFxelpucD",
        "outputId": "415f25e8-f5d6-4f33-a628-3d44e9a14ec2"
      },
      "execution_count": 4,
      "outputs": [
        {
          "output_type": "execute_result",
          "data": {
            "text/plain": [
              "((50000, 32, 32, 3), (10000, 32, 32, 3))"
            ]
          },
          "metadata": {},
          "execution_count": 4
        }
      ]
    },
    {
      "cell_type": "code",
      "source": [
        "X_train = X_train.astype('float32')\n",
        "X_train /= 255\n",
        "X_test = X_test.astype('float32')\n",
        "X_test /= 255"
      ],
      "metadata": {
        "id": "hhXdWAnqpue5"
      },
      "execution_count": 5,
      "outputs": []
    },
    {
      "cell_type": "code",
      "source": [
        "X_train.shape, X_test.shape"
      ],
      "metadata": {
        "colab": {
          "base_uri": "https://localhost:8080/"
        },
        "id": "to17beNvpuk8",
        "outputId": "51502944-e972-45ea-d9ac-61ef16445090"
      },
      "execution_count": 6,
      "outputs": [
        {
          "output_type": "execute_result",
          "data": {
            "text/plain": [
              "((50000, 32, 32, 3), (10000, 32, 32, 3))"
            ]
          },
          "metadata": {},
          "execution_count": 6
        }
      ]
    },
    {
      "cell_type": "code",
      "source": [
        "# Preprocessing the Labels\n",
        "\n",
        "y_train.shape, y_test.shape"
      ],
      "metadata": {
        "colab": {
          "base_uri": "https://localhost:8080/"
        },
        "id": "QUEeyIw3punt",
        "outputId": "58017bd5-6216-4350-9cbc-7b6572881d4f"
      },
      "execution_count": 7,
      "outputs": [
        {
          "output_type": "execute_result",
          "data": {
            "text/plain": [
              "((50000, 1), (10000, 1))"
            ]
          },
          "metadata": {},
          "execution_count": 7
        }
      ]
    },
    {
      "cell_type": "code",
      "source": [
        "y_train = to_categorical(y_train, num_classes = 10)\n",
        "y_test = to_categorical(y_test, num_classes = 10)"
      ],
      "metadata": {
        "id": "nRzW8SrlpuqU"
      },
      "execution_count": 8,
      "outputs": []
    },
    {
      "cell_type": "code",
      "source": [
        "y_train.shape, y_test.shape"
      ],
      "metadata": {
        "colab": {
          "base_uri": "https://localhost:8080/"
        },
        "id": "Ce_4E4yfqG6q",
        "outputId": "d204655d-81a2-4ffa-ec4a-b63119105405"
      },
      "execution_count": 9,
      "outputs": [
        {
          "output_type": "execute_result",
          "data": {
            "text/plain": [
              "((50000, 10), (10000, 10))"
            ]
          },
          "metadata": {},
          "execution_count": 9
        }
      ]
    },
    {
      "cell_type": "markdown",
      "source": [
        "**(a) Split the training dataset into sub training and validation sets randomly. Use 1/5 of training dataset as validation set. Use the ‘accuracy’ as metric. Please repeat 10 times of random split and aggregate (average) the accuracy**"
      ],
      "metadata": {
        "id": "UuMFwiR7ta1R"
      }
    },
    {
      "cell_type": "code",
      "source": [
        "from sklearn.model_selection import StratifiedShuffleSplit\n",
        "s = StratifiedShuffleSplit(n_splits = 10, random_state=0, test_size=1/5)\n",
        "train_index, valid_index = next(s.split(X_train, y_train))\n",
        "x_valid, y_valid = X_train[valid_index], y_train[valid_index]\n",
        "X_train, y_train = X_train[train_index], y_train[train_index]\n",
        "print(X_train.shape, x_valid.shape,X_test.shape)"
      ],
      "metadata": {
        "colab": {
          "base_uri": "https://localhost:8080/"
        },
        "id": "wkirooFA7sXO",
        "outputId": "2f2a62f1-0c8d-4cb2-84c5-3265297b86e2"
      },
      "execution_count": 25,
      "outputs": [
        {
          "output_type": "stream",
          "name": "stdout",
          "text": [
            "(25600, 32, 32, 3) (6400, 32, 32, 3) (10000, 32, 32, 3)\n"
          ]
        }
      ]
    },
    {
      "cell_type": "code",
      "source": [
        "# Spiltting training and validation sets\n",
        "\n",
        "X_val = X_train[:10000]\n",
        "y_val = y_train[:10000]\n",
        "\n",
        "X_train = X_train[10000:]\n",
        "y_train = y_train[10000:]"
      ],
      "metadata": {
        "id": "vxFuTHjvqG3K"
      },
      "execution_count": 10,
      "outputs": []
    },
    {
      "cell_type": "code",
      "source": [
        "X_train.shape, y_train.shape, X_val.shape, y_val.shape"
      ],
      "metadata": {
        "colab": {
          "base_uri": "https://localhost:8080/"
        },
        "id": "coaSHfpOqSK2",
        "outputId": "eb8ae3a7-89b2-424f-d063-b9e71b730224"
      },
      "execution_count": 11,
      "outputs": [
        {
          "output_type": "execute_result",
          "data": {
            "text/plain": [
              "((40000, 32, 32, 3), (40000, 10), (10000, 32, 32, 3), (10000, 10))"
            ]
          },
          "metadata": {},
          "execution_count": 11
        }
      ]
    },
    {
      "cell_type": "markdown",
      "source": [
        "<b>(b) Model evaluation<br>\n",
        "• Evaluate multiple combinations of activation function, optimizer, hyper-parameter,generalization (including data augmentation), and architecture.<br>\n",
        "• Using sub training and validation datasets, find the best models.<br>\n",
        "• Report 3 best models in terms of test accuracy."
      ],
      "metadata": {
        "id": "R3MR4nh3ANfK"
      }
    },
    {
      "cell_type": "markdown",
      "source": [
        "<b>Define The Model</b>"
      ],
      "metadata": {
        "id": "hzTE3lQltvJF"
      }
    },
    {
      "cell_type": "code",
      "source": [
        "# Building the model\n",
        "\n",
        "model = models.Sequential()\n",
        "\n",
        "model.add(layers.Conv2D(32, (3, 3), activation = 'relu', padding = 'same', input_shape = (32, 32, 3)))\n",
        "model.add(layers.BatchNormalization())\n",
        "model.add(layers.Dropout(0.25))\n",
        "model.add(layers.Conv2D(32, (3, 3), activation = 'relu', padding = 'same'))\n",
        "model.add(layers.BatchNormalization())\n",
        "model.add(layers.MaxPooling2D(2, 2))\n",
        "\n",
        "model.add(layers.Conv2D(64, (3, 3), activation = 'relu', padding = 'same'))\n",
        "model.add(layers.BatchNormalization())\n",
        "model.add(layers.Dropout(0.25))\n",
        "model.add(layers.Conv2D(64, (3, 3), activation = 'relu', padding = 'same'))\n",
        "model.add(layers.BatchNormalization())\n",
        "model.add(layers.MaxPooling2D(2, 2))\n",
        "\n",
        "model.add(layers.Conv2D(128, (3, 3), activation = 'relu', padding = 'same'))\n",
        "model.add(layers.BatchNormalization())\n",
        "model.add(layers.Dropout(0.25))\n",
        "model.add(layers.Conv2D(128, (3, 3), activation = 'relu', padding = 'same'))\n",
        "model.add(layers.BatchNormalization())\n",
        "model.add(layers.MaxPooling2D(2, 2))\n",
        "\n",
        "model.add(layers.Flatten())\n",
        "model.add(layers.Dense(256, activation = 'relu'))\n",
        "model.add(layers.BatchNormalization())\n",
        "model.add(layers.Dropout(0.5))\n",
        "model.add(layers.Dense(10, activation = 'sigmoid'))\n",
        "model.summary()"
      ],
      "metadata": {
        "colab": {
          "base_uri": "https://localhost:8080/"
        },
        "id": "cMWvGM6EqSHY",
        "outputId": "ef9b6235-23d7-44c3-a3fc-4d0cc921c1f1"
      },
      "execution_count": 14,
      "outputs": [
        {
          "output_type": "stream",
          "name": "stdout",
          "text": [
            "Model: \"sequential_2\"\n",
            "_________________________________________________________________\n",
            " Layer (type)                Output Shape              Param #   \n",
            "=================================================================\n",
            " conv2d_12 (Conv2D)          (None, 32, 32, 32)        896       \n",
            "                                                                 \n",
            " batch_normalization_13 (Bat  (None, 32, 32, 32)       128       \n",
            " chNormalization)                                                \n",
            "                                                                 \n",
            " dropout_7 (Dropout)         (None, 32, 32, 32)        0         \n",
            "                                                                 \n",
            " conv2d_13 (Conv2D)          (None, 32, 32, 32)        9248      \n",
            "                                                                 \n",
            " batch_normalization_14 (Bat  (None, 32, 32, 32)       128       \n",
            " chNormalization)                                                \n",
            "                                                                 \n",
            " max_pooling2d_6 (MaxPooling  (None, 16, 16, 32)       0         \n",
            " 2D)                                                             \n",
            "                                                                 \n",
            " conv2d_14 (Conv2D)          (None, 16, 16, 64)        18496     \n",
            "                                                                 \n",
            " batch_normalization_15 (Bat  (None, 16, 16, 64)       256       \n",
            " chNormalization)                                                \n",
            "                                                                 \n",
            " dropout_8 (Dropout)         (None, 16, 16, 64)        0         \n",
            "                                                                 \n",
            " conv2d_15 (Conv2D)          (None, 16, 16, 64)        36928     \n",
            "                                                                 \n",
            " batch_normalization_16 (Bat  (None, 16, 16, 64)       256       \n",
            " chNormalization)                                                \n",
            "                                                                 \n",
            " max_pooling2d_7 (MaxPooling  (None, 8, 8, 64)         0         \n",
            " 2D)                                                             \n",
            "                                                                 \n",
            " conv2d_16 (Conv2D)          (None, 8, 8, 128)         73856     \n",
            "                                                                 \n",
            " batch_normalization_17 (Bat  (None, 8, 8, 128)        512       \n",
            " chNormalization)                                                \n",
            "                                                                 \n",
            " dropout_9 (Dropout)         (None, 8, 8, 128)         0         \n",
            "                                                                 \n",
            " conv2d_17 (Conv2D)          (None, 8, 8, 128)         147584    \n",
            "                                                                 \n",
            " batch_normalization_18 (Bat  (None, 8, 8, 128)        512       \n",
            " chNormalization)                                                \n",
            "                                                                 \n",
            " max_pooling2d_8 (MaxPooling  (None, 4, 4, 128)        0         \n",
            " 2D)                                                             \n",
            "                                                                 \n",
            " flatten_1 (Flatten)         (None, 2048)              0         \n",
            "                                                                 \n",
            " dense_2 (Dense)             (None, 256)               524544    \n",
            "                                                                 \n",
            " batch_normalization_19 (Bat  (None, 256)              1024      \n",
            " chNormalization)                                                \n",
            "                                                                 \n",
            " dropout_10 (Dropout)        (None, 256)               0         \n",
            "                                                                 \n",
            " dense_3 (Dense)             (None, 10)                2570      \n",
            "                                                                 \n",
            "=================================================================\n",
            "Total params: 816,938\n",
            "Trainable params: 815,530\n",
            "Non-trainable params: 1,408\n",
            "_________________________________________________________________\n"
          ]
        }
      ]
    },
    {
      "cell_type": "markdown",
      "source": [
        "**Compile The Model**"
      ],
      "metadata": {
        "id": "ZMenzHpVt7XD"
      }
    },
    {
      "cell_type": "code",
      "source": [
        "# Compiling the Model\n",
        "\n",
        "model.compile(optimizer = 'adam', loss = 'categorical_crossentropy', metrics = ['accuracy'])"
      ],
      "metadata": {
        "id": "ygL-QVaLqSEU"
      },
      "execution_count": 15,
      "outputs": []
    },
    {
      "cell_type": "code",
      "source": [
        "# Creating the Callback\n",
        "\n",
        "callback = [ReduceLROnPlateau(monitor = 'val_loss', patience = 2, factor = 0.1, min_lr = 0.001)]"
      ],
      "metadata": {
        "id": "MPJppmqwqG0G"
      },
      "execution_count": 16,
      "outputs": []
    },
    {
      "cell_type": "markdown",
      "source": [
        "<b>Data Augmentation</b>"
      ],
      "metadata": {
        "id": "voF1OQclAV4Q"
      }
    },
    {
      "cell_type": "code",
      "source": [
        "#Setting up a data augmentation configuration via ImageDataGenerator\n",
        "from keras.preprocessing.image import ImageDataGenerator\n",
        "datagen = ImageDataGenerator(rotation_range=40,width_shift_range=0.2,height_shift_range=0.2,shear_range=0.2,zoom_range=0.2,horizontal_flip=True,\n",
        "fill_mode='nearest')"
      ],
      "metadata": {
        "id": "Dbw7rKAIAXnK"
      },
      "execution_count": 1,
      "outputs": []
    },
    {
      "cell_type": "code",
      "source": [
        "\n",
        "#Module with imagepreprocessing utilities\n",
        "from keras.preprocessing import image"
      ],
      "metadata": {
        "id": "nkzjXxvhAhrs"
      },
      "execution_count": 2,
      "outputs": []
    },
    {
      "cell_type": "markdown",
      "source": [
        "<b>Fit The Model</b>"
      ],
      "metadata": {
        "id": "pslq3yjhv89l"
      }
    },
    {
      "cell_type": "code",
      "source": [
        "# Training\n",
        "\n",
        "history = model.fit(X_train, y_train, epochs = 10, batch_size = 32, validation_data = (X_val, y_val), callbacks = callback)"
      ],
      "metadata": {
        "colab": {
          "base_uri": "https://localhost:8080/"
        },
        "id": "pgTnWvUhput-",
        "outputId": "1b6a3390-9dcf-4d33-bddc-e7a3fe3d6943"
      },
      "execution_count": 17,
      "outputs": [
        {
          "output_type": "stream",
          "name": "stdout",
          "text": [
            "Epoch 1/10\n",
            "1250/1250 [==============================] - 403s 320ms/step - loss: 1.6219 - accuracy: 0.4432 - val_loss: 1.2201 - val_accuracy: 0.5668 - lr: 0.0010\n",
            "Epoch 2/10\n",
            "1250/1250 [==============================] - 393s 314ms/step - loss: 1.0786 - accuracy: 0.6209 - val_loss: 0.8702 - val_accuracy: 0.6899 - lr: 0.0010\n",
            "Epoch 3/10\n",
            "1250/1250 [==============================] - 392s 314ms/step - loss: 0.8845 - accuracy: 0.6898 - val_loss: 0.9279 - val_accuracy: 0.6734 - lr: 0.0010\n",
            "Epoch 4/10\n",
            "1250/1250 [==============================] - 393s 314ms/step - loss: 0.7905 - accuracy: 0.7250 - val_loss: 0.9964 - val_accuracy: 0.6761 - lr: 0.0010\n",
            "Epoch 5/10\n",
            "1250/1250 [==============================] - 389s 312ms/step - loss: 0.7129 - accuracy: 0.7551 - val_loss: 1.3657 - val_accuracy: 0.6259 - lr: 0.0010\n",
            "Epoch 6/10\n",
            "1250/1250 [==============================] - 391s 313ms/step - loss: 0.6331 - accuracy: 0.7820 - val_loss: 0.6938 - val_accuracy: 0.7618 - lr: 0.0010\n",
            "Epoch 7/10\n",
            "1250/1250 [==============================] - 391s 313ms/step - loss: 0.5762 - accuracy: 0.8005 - val_loss: 0.9632 - val_accuracy: 0.6661 - lr: 0.0010\n",
            "Epoch 8/10\n",
            "1250/1250 [==============================] - 392s 314ms/step - loss: 0.5372 - accuracy: 0.8140 - val_loss: 0.6193 - val_accuracy: 0.7910 - lr: 0.0010\n",
            "Epoch 9/10\n",
            "1250/1250 [==============================] - 392s 313ms/step - loss: 0.4887 - accuracy: 0.8310 - val_loss: 0.6960 - val_accuracy: 0.7655 - lr: 0.0010\n",
            "Epoch 10/10\n",
            "1250/1250 [==============================] - 391s 313ms/step - loss: 0.4649 - accuracy: 0.8413 - val_loss: 0.5450 - val_accuracy: 0.8137 - lr: 0.0010\n"
          ]
        }
      ]
    },
    {
      "cell_type": "markdown",
      "source": [
        "<b>Training Accuracy:</b><br>\n",
        "<b>90.35%</b>"
      ],
      "metadata": {
        "id": "1ZanowIGbmQD"
      }
    },
    {
      "cell_type": "code",
      "source": [
        "_, accuracy = model.evaluate(X_train, y_train)\n",
        "print('Accuracy: %.2f' % (accuracy*100))"
      ],
      "metadata": {
        "colab": {
          "base_uri": "https://localhost:8080/"
        },
        "id": "o3_Urxq26pgZ",
        "outputId": "87961798-2e61-4b5d-e7fb-dcde3e5e48f2"
      },
      "execution_count": 18,
      "outputs": [
        {
          "output_type": "stream",
          "name": "stdout",
          "text": [
            "1250/1250 [==============================] - 86s 69ms/step - loss: 0.2967 - accuracy: 0.9035\n",
            "Accuracy: 90.35\n"
          ]
        }
      ]
    },
    {
      "cell_type": "markdown",
      "source": [
        "<b>Testing Accuracy:</b><br>\n",
        "<b>90.35%</b>"
      ],
      "metadata": {
        "id": "hLgmGvxzbxg5"
      }
    },
    {
      "cell_type": "code",
      "source": [
        "_, accuracy = model.evaluate(X_test, y_test)\n",
        "print('Accuracy: %.2f' % (accuracy*100))"
      ],
      "metadata": {
        "colab": {
          "base_uri": "https://localhost:8080/"
        },
        "id": "hTGfbn0z6pxD",
        "outputId": "9e443761-4860-4fb7-84a6-69412daaeb25"
      },
      "execution_count": 19,
      "outputs": [
        {
          "output_type": "stream",
          "name": "stdout",
          "text": [
            "313/313 [==============================] - 21s 68ms/step - loss: 0.5663 - accuracy: 0.8110\n",
            "Accuracy: 81.10\n"
          ]
        }
      ]
    },
    {
      "cell_type": "code",
      "source": [
        "acc = history.history['accuracy']\n",
        "val_acc = history.history['val_accuracy']\n",
        "loss = history.history['loss']\n",
        "val_loss = history.history['val_loss']"
      ],
      "metadata": {
        "id": "VNuFSMk66p05"
      },
      "execution_count": 20,
      "outputs": []
    },
    {
      "cell_type": "code",
      "source": [
        "epochs = range(1, len(acc) + 1)\n",
        "\n",
        "plt.plot(epochs, loss, 'co', label='Training loss')\n",
        "plt.plot(epochs, val_loss, 'c', label='Validation loss')\n",
        "plt.title('Training and validation loss')\n",
        "plt.legend()\n",
        "plt.show()"
      ],
      "metadata": {
        "colab": {
          "base_uri": "https://localhost:8080/",
          "height": 281
        },
        "id": "OdeoxwHR7a8D",
        "outputId": "a4ea3380-00cc-467b-dce7-0b06073ed63e"
      },
      "execution_count": 21,
      "outputs": [
        {
          "output_type": "display_data",
          "data": {
            "text/plain": [
              "<Figure size 432x288 with 1 Axes>"
            ],
            "image/png": "[encoded data removed]"
          },
          "metadata": {
            "needs_background": "light"
          }
        }
      ]
    },
    {
      "cell_type": "code",
      "source": [
        ""
      ],
      "metadata": {
        "id": "qLYFhXAa6p4f"
      },
      "execution_count": null,
      "outputs": []
    }
  ]
}