{
  "nbformat": 4,
  "nbformat_minor": 0,
  "metadata": {
    "colab": {
      "name": "cifar_arch_final3.ipynb",
      "provenance": []
    },
    "kernelspec": {
      "name": "python3",
      "display_name": "Python 3"
    },
    "language_info": {
      "name": "python"
    }
  },
  "cells": [
    {
      "cell_type": "markdown",
      "source": [
        "<b>Name:</b> Aishwarya Bhavsar<br>\n",
        "<b>CSULBID:</b> 029371509<br>\n",
        "CECS 551 Assignment 7"
      ],
      "metadata": {
        "id": "InnrD5yMsSOD"
      }
    },
    {
      "cell_type": "markdown",
      "source": [
        "**Import Libraries And Download Dataset**"
      ],
      "metadata": {
        "id": "oqneQQURsUSm"
      }
    },
    {
      "cell_type": "code",
      "execution_count": 1,
      "metadata": {
        "id": "3VRP9IPsGLAB"
      },
      "outputs": [],
      "source": [
        "import numpy as np\n",
        "import matplotlib.pyplot as plt"
      ]
    },
    {
      "cell_type": "code",
      "source": [
        "from keras import models\n",
        "from keras import layers\n",
        "from keras.datasets import cifar10\n",
        "from tensorflow.keras.utils import to_categorical\n",
        "from keras.callbacks import ReduceLROnPlateau"
      ],
      "metadata": {
        "id": "lJUqUSwYGTWY"
      },
      "execution_count": 2,
      "outputs": []
    },
    {
      "cell_type": "code",
      "source": [
        "(X_train, y_train), (X_test, y_test) = cifar10.load_data()"
      ],
      "metadata": {
        "colab": {
          "base_uri": "https://localhost:8080/"
        },
        "id": "qe9h-Dx1GTZJ",
        "outputId": "8b18aba7-0dcd-44e1-f979-2747613bb3e9"
      },
      "execution_count": 3,
      "outputs": [
        {
          "output_type": "stream",
          "name": "stdout",
          "text": [
            "Downloading data from https://www.cs.toronto.edu/~kriz/cifar-10-python.tar.gz\n",
            "170500096/170498071 [==============================] - 2s 0us/step\n",
            "170508288/170498071 [==============================] - 2s 0us/step\n"
          ]
        }
      ]
    },
    {
      "cell_type": "markdown",
      "source": [
        "**Normalize The Data And Convert It RGB To GRAYSCALE Image For Fast Training**"
      ],
      "metadata": {
        "id": "FQGgCtVSsCNf"
      }
    },
    {
      "cell_type": "code",
      "source": [
        "# Preprocessing the data\n",
        "\n",
        "X_train.shape, X_test.shape"
      ],
      "metadata": {
        "colab": {
          "base_uri": "https://localhost:8080/"
        },
        "id": "T07C2sVCGTbv",
        "outputId": "3ff89f80-223d-4e93-dcf7-89a1649c7af3"
      },
      "execution_count": 4,
      "outputs": [
        {
          "output_type": "execute_result",
          "data": {
            "text/plain": [
              "((50000, 32, 32, 3), (10000, 32, 32, 3))"
            ]
          },
          "metadata": {},
          "execution_count": 4
        }
      ]
    },
    {
      "cell_type": "code",
      "source": [
        "X_train = X_train.astype('float32')\n",
        "X_train /= 255\n",
        "X_test = X_test.astype('float32')\n",
        "X_test /= 255"
      ],
      "metadata": {
        "id": "HQNDo2JaGTeY"
      },
      "execution_count": 5,
      "outputs": []
    },
    {
      "cell_type": "code",
      "source": [
        "X_train.shape, X_test.shape"
      ],
      "metadata": {
        "colab": {
          "base_uri": "https://localhost:8080/"
        },
        "id": "WIahAJOlGThL",
        "outputId": "0d6d0efb-c4cd-4f7d-aa36-fa961a77265a"
      },
      "execution_count": 6,
      "outputs": [
        {
          "output_type": "execute_result",
          "data": {
            "text/plain": [
              "((50000, 32, 32, 3), (10000, 32, 32, 3))"
            ]
          },
          "metadata": {},
          "execution_count": 6
        }
      ]
    },
    {
      "cell_type": "code",
      "source": [
        "# Preprocessing the Labels\n",
        "\n",
        "y_train.shape, y_test.shape"
      ],
      "metadata": {
        "colab": {
          "base_uri": "https://localhost:8080/"
        },
        "id": "hZDawNsPGTki",
        "outputId": "6a6e56aa-3c3b-4088-ebf6-dd0ac102cbf1"
      },
      "execution_count": 7,
      "outputs": [
        {
          "output_type": "execute_result",
          "data": {
            "text/plain": [
              "((50000, 1), (10000, 1))"
            ]
          },
          "metadata": {},
          "execution_count": 7
        }
      ]
    },
    {
      "cell_type": "code",
      "source": [
        "y_train = to_categorical(y_train, num_classes = 10)\n",
        "y_test = to_categorical(y_test, num_classes = 10)"
      ],
      "metadata": {
        "id": "3yuz0-YoGx7K"
      },
      "execution_count": 8,
      "outputs": []
    },
    {
      "cell_type": "code",
      "source": [
        "y_train.shape, y_test.shape"
      ],
      "metadata": {
        "colab": {
          "base_uri": "https://localhost:8080/"
        },
        "id": "nUj5y9JoGx-o",
        "outputId": "bc1341d5-1631-42ae-bff6-4fabf66929bb"
      },
      "execution_count": 9,
      "outputs": [
        {
          "output_type": "execute_result",
          "data": {
            "text/plain": [
              "((50000, 10), (10000, 10))"
            ]
          },
          "metadata": {},
          "execution_count": 9
        }
      ]
    },
    {
      "cell_type": "markdown",
      "source": [
        "**(a) Split the training dataset into sub training and validation sets randomly. Use 1/5 of training dataset as validation set. Use the ‘accuracy’ as metric. Please repeat 10 times of random split and aggregate (average) the accuracy**"
      ],
      "metadata": {
        "id": "uTEmQKYTtmA_"
      }
    },
    {
      "cell_type": "code",
      "source": [
        "from sklearn.model_selection import StratifiedShuffleSplit\n",
        "s = StratifiedShuffleSplit(n_splits = 10, random_state=0, test_size=1/5)\n",
        "train_index, valid_index = next(s.split(X_train, y_train))\n",
        "x_valid, y_valid = X_train[valid_index], y_train[valid_index]\n",
        "X_train, y_train = X_train[train_index], y_train[train_index]\n",
        "print(X_train.shape, x_valid.shape,X_test.shape)"
      ],
      "metadata": {
        "colab": {
          "base_uri": "https://localhost:8080/"
        },
        "id": "frqDCkyCGyBg",
        "outputId": "da78986a-a0b3-4c4d-8cd2-66e7762f6512"
      },
      "execution_count": 10,
      "outputs": [
        {
          "output_type": "stream",
          "name": "stdout",
          "text": [
            "(40000, 32, 32, 3) (10000, 32, 32, 3) (10000, 32, 32, 3)\n"
          ]
        }
      ]
    },
    {
      "cell_type": "code",
      "source": [
        "X_train.shape, y_train.shape, x_valid.shape, y_valid.shape"
      ],
      "metadata": {
        "colab": {
          "base_uri": "https://localhost:8080/"
        },
        "id": "1UzDxVlAGyEY",
        "outputId": "7198aff4-60b3-493d-8b01-6b4c857cab6c"
      },
      "execution_count": 12,
      "outputs": [
        {
          "output_type": "execute_result",
          "data": {
            "text/plain": [
              "((40000, 32, 32, 3), (40000, 10), (10000, 32, 32, 3), (10000, 10))"
            ]
          },
          "metadata": {},
          "execution_count": 12
        }
      ]
    },
    {
      "cell_type": "markdown",
      "source": [
        "<b>(b) Model evaluation<br>\n",
        "• Evaluate multiple combinations of activation function, optimizer, hyper-parameter,generalization (including data augmentation), and architecture.<br>\n",
        "• Using sub training and validation datasets, find the best models.<br>\n",
        "• Report 3 best models in terms of test accuracy."
      ],
      "metadata": {
        "id": "j9XgiTXSAta2"
      }
    },
    {
      "cell_type": "markdown",
      "source": [
        "<b>Define The Model</b>"
      ],
      "metadata": {
        "id": "4e-eh6eGtxO0"
      }
    },
    {
      "cell_type": "code",
      "source": [
        "# Building the model\n",
        "\n",
        "model = models.Sequential()\n",
        "\n",
        "model.add(layers.Conv2D(32, (3, 3), activation = 'sigmoid', padding = 'same', input_shape = (32, 32, 3)))\n",
        "model.add(layers.BatchNormalization())\n",
        "model.add(layers.Dropout(0.25))\n",
        "model.add(layers.Conv2D(32, (3, 3), activation = 'sigmoid', padding = 'same'))\n",
        "model.add(layers.BatchNormalization())\n",
        "model.add(layers.MaxPooling2D(2, 2))\n",
        "\n",
        "model.add(layers.Conv2D(64, (3, 3), activation = 'sigmoid', padding = 'same'))\n",
        "model.add(layers.BatchNormalization())\n",
        "model.add(layers.Dropout(0.25))\n",
        "model.add(layers.Conv2D(64, (3, 3), activation = 'sigmoid', padding = 'same'))\n",
        "model.add(layers.BatchNormalization())\n",
        "model.add(layers.MaxPooling2D(2, 2))\n",
        "\n",
        "model.add(layers.Conv2D(128, (3, 3), activation = 'sigmoid', padding = 'same'))\n",
        "model.add(layers.BatchNormalization())\n",
        "model.add(layers.Dropout(0.25))\n",
        "model.add(layers.Conv2D(128, (3, 3), activation = 'tanh', padding = 'same'))\n",
        "model.add(layers.BatchNormalization())\n",
        "model.add(layers.MaxPooling2D(2, 2))\n",
        "\n",
        "model.add(layers.Flatten())\n",
        "model.add(layers.Dense(256, activation = 'sigmoid'))\n",
        "model.add(layers.BatchNormalization())\n",
        "model.add(layers.Dropout(0.5))\n",
        "model.add(layers.Dense(10, activation = 'sigmoid'))\n",
        "model.summary()"
      ],
      "metadata": {
        "colab": {
          "base_uri": "https://localhost:8080/"
        },
        "id": "dpoOn6AAGyG7",
        "outputId": "01b3261a-5159-4c1b-9cf6-baf1cd0df35b"
      },
      "execution_count": 34,
      "outputs": [
        {
          "output_type": "stream",
          "name": "stdout",
          "text": [
            "Model: \"sequential_1\"\n",
            "_________________________________________________________________\n",
            " Layer (type)                Output Shape              Param #   \n",
            "=================================================================\n",
            " conv2d_6 (Conv2D)           (None, 32, 32, 32)        896       \n",
            "                                                                 \n",
            " batch_normalization_7 (Batc  (None, 32, 32, 32)       128       \n",
            " hNormalization)                                                 \n",
            "                                                                 \n",
            " dropout_4 (Dropout)         (None, 32, 32, 32)        0         \n",
            "                                                                 \n",
            " conv2d_7 (Conv2D)           (None, 32, 32, 32)        9248      \n",
            "                                                                 \n",
            " batch_normalization_8 (Batc  (None, 32, 32, 32)       128       \n",
            " hNormalization)                                                 \n",
            "                                                                 \n",
            " max_pooling2d_3 (MaxPooling  (None, 16, 16, 32)       0         \n",
            " 2D)                                                             \n",
            "                                                                 \n",
            " conv2d_8 (Conv2D)           (None, 16, 16, 64)        18496     \n",
            "                                                                 \n",
            " batch_normalization_9 (Batc  (None, 16, 16, 64)       256       \n",
            " hNormalization)                                                 \n",
            "                                                                 \n",
            " dropout_5 (Dropout)         (None, 16, 16, 64)        0         \n",
            "                                                                 \n",
            " conv2d_9 (Conv2D)           (None, 16, 16, 64)        36928     \n",
            "                                                                 \n",
            " batch_normalization_10 (Bat  (None, 16, 16, 64)       256       \n",
            " chNormalization)                                                \n",
            "                                                                 \n",
            " max_pooling2d_4 (MaxPooling  (None, 8, 8, 64)         0         \n",
            " 2D)                                                             \n",
            "                                                                 \n",
            " conv2d_10 (Conv2D)          (None, 8, 8, 128)         73856     \n",
            "                                                                 \n",
            " batch_normalization_11 (Bat  (None, 8, 8, 128)        512       \n",
            " chNormalization)                                                \n",
            "                                                                 \n",
            " dropout_6 (Dropout)         (None, 8, 8, 128)         0         \n",
            "                                                                 \n",
            " conv2d_11 (Conv2D)          (None, 8, 8, 128)         147584    \n",
            "                                                                 \n",
            " batch_normalization_12 (Bat  (None, 8, 8, 128)        512       \n",
            " chNormalization)                                                \n",
            "                                                                 \n",
            " max_pooling2d_5 (MaxPooling  (None, 4, 4, 128)        0         \n",
            " 2D)                                                             \n",
            "                                                                 \n",
            " flatten_1 (Flatten)         (None, 2048)              0         \n",
            "                                                                 \n",
            " dense_2 (Dense)             (None, 256)               524544    \n",
            "                                                                 \n",
            " batch_normalization_13 (Bat  (None, 256)              1024      \n",
            " chNormalization)                                                \n",
            "                                                                 \n",
            " dropout_7 (Dropout)         (None, 256)               0         \n",
            "                                                                 \n",
            " dense_3 (Dense)             (None, 10)                2570      \n",
            "                                                                 \n",
            "=================================================================\n",
            "Total params: 816,938\n",
            "Trainable params: 815,530\n",
            "Non-trainable params: 1,408\n",
            "_________________________________________________________________\n"
          ]
        }
      ]
    },
    {
      "cell_type": "markdown",
      "source": [
        "**Compile The Model**"
      ],
      "metadata": {
        "id": "zc7587t9t9zR"
      }
    },
    {
      "cell_type": "code",
      "source": [
        "# Compiling the Model\n",
        "\n",
        "model.compile(optimizer = 'adam', loss = 'categorical_crossentropy', metrics = ['accuracy'])"
      ],
      "metadata": {
        "id": "0eOVdQmvGyJr"
      },
      "execution_count": 35,
      "outputs": []
    },
    {
      "cell_type": "code",
      "source": [
        "# Creating the Callback\n",
        "\n",
        "callback = [ReduceLROnPlateau(monitor = 'val_loss', patience = 2, factor = 0.1, min_lr = 0.001)]"
      ],
      "metadata": {
        "id": "MhiXZDxHGyND"
      },
      "execution_count": 36,
      "outputs": []
    },
    {
      "cell_type": "markdown",
      "source": [
        "<b>Data Augmentation</b>"
      ],
      "metadata": {
        "id": "4epETcJSAyCO"
      }
    },
    {
      "cell_type": "code",
      "source": [
        "#Setting up a data augmentation configuration via ImageDataGenerator\n",
        "from keras.preprocessing.image import ImageDataGenerator\n",
        "datagen = ImageDataGenerator(rotation_range=40,width_shift_range=0.2,height_shift_range=0.2,shear_range=0.2,zoom_range=0.2,horizontal_flip=True,\n",
        "fill_mode='nearest')"
      ],
      "metadata": {
        "id": "CkhPcEyKA3NF"
      },
      "execution_count": 1,
      "outputs": []
    },
    {
      "cell_type": "code",
      "source": [
        "#Module with imagepreprocessing utilities\n",
        "from keras.preprocessing import image"
      ],
      "metadata": {
        "id": "52A3Nm2DA7tF"
      },
      "execution_count": 2,
      "outputs": []
    },
    {
      "cell_type": "markdown",
      "source": [
        "<b>Fit The Model</b>"
      ],
      "metadata": {
        "id": "eH22IzhFv_0B"
      }
    },
    {
      "cell_type": "code",
      "source": [
        "# Training\n",
        "\n",
        "history = model.fit(X_train, y_train, epochs = 10, batch_size = 32, validation_data = (x_valid, y_valid), callbacks = callback)"
      ],
      "metadata": {
        "colab": {
          "base_uri": "https://localhost:8080/"
        },
        "id": "sVQ5W4afJawe",
        "outputId": "d62e790d-8a21-4629-98dc-d2e6032c4397"
      },
      "execution_count": 37,
      "outputs": [
        {
          "output_type": "stream",
          "name": "stdout",
          "text": [
            "Epoch 1/10\n",
            "1250/1250 [==============================] - 345s 275ms/step - loss: 1.6771 - accuracy: 0.4052 - val_loss: 1.8033 - val_accuracy: 0.4256 - lr: 0.0010\n",
            "Epoch 2/10\n",
            "1250/1250 [==============================] - 321s 257ms/step - loss: 1.2428 - accuracy: 0.5558 - val_loss: 1.2247 - val_accuracy: 0.5755 - lr: 0.0010\n",
            "Epoch 3/10\n",
            "1250/1250 [==============================] - 320s 256ms/step - loss: 1.0631 - accuracy: 0.6217 - val_loss: 1.0303 - val_accuracy: 0.6419 - lr: 0.0010\n",
            "Epoch 4/10\n",
            "1250/1250 [==============================] - 372s 298ms/step - loss: 0.9630 - accuracy: 0.6631 - val_loss: 1.0191 - val_accuracy: 0.6417 - lr: 0.0010\n",
            "Epoch 5/10\n",
            "1250/1250 [==============================] - 400s 320ms/step - loss: 0.8870 - accuracy: 0.6888 - val_loss: 0.9093 - val_accuracy: 0.6890 - lr: 0.0010\n",
            "Epoch 6/10\n",
            "1250/1250 [==============================] - 399s 319ms/step - loss: 0.8375 - accuracy: 0.7081 - val_loss: 0.8350 - val_accuracy: 0.7108 - lr: 0.0010\n",
            "Epoch 7/10\n",
            "1250/1250 [==============================] - 398s 319ms/step - loss: 0.7877 - accuracy: 0.7261 - val_loss: 0.8274 - val_accuracy: 0.7086 - lr: 0.0010\n",
            "Epoch 8/10\n",
            "1250/1250 [==============================] - 398s 319ms/step - loss: 0.7481 - accuracy: 0.7388 - val_loss: 0.9027 - val_accuracy: 0.6991 - lr: 0.0010\n",
            "Epoch 9/10\n",
            "1250/1250 [==============================] - 400s 320ms/step - loss: 0.7198 - accuracy: 0.7506 - val_loss: 0.7729 - val_accuracy: 0.7328 - lr: 0.0010\n",
            "Epoch 10/10\n",
            "1250/1250 [==============================] - 399s 319ms/step - loss: 0.6886 - accuracy: 0.7606 - val_loss: 0.8271 - val_accuracy: 0.7135 - lr: 0.0010\n"
          ]
        }
      ]
    },
    {
      "cell_type": "markdown",
      "source": [
        "<b>Training Accuracy:</b><br>\n",
        "<b>76.97%</b>"
      ],
      "metadata": {
        "id": "AfX1kkJwb5MC"
      }
    },
    {
      "cell_type": "code",
      "source": [
        "_, accuracy = model.evaluate(X_train, y_train)\n",
        "print('Accuracy: %.2f' % (accuracy*100))"
      ],
      "metadata": {
        "colab": {
          "base_uri": "https://localhost:8080/"
        },
        "id": "WuA6AVO3Jaza",
        "outputId": "22a27193-097d-4d8e-bc01-c4934b24578f"
      },
      "execution_count": 38,
      "outputs": [
        {
          "output_type": "stream",
          "name": "stdout",
          "text": [
            "1250/1250 [==============================] - 91s 73ms/step - loss: 0.6503 - accuracy: 0.7697\n",
            "Accuracy: 76.97\n"
          ]
        }
      ]
    },
    {
      "cell_type": "markdown",
      "source": [
        "<b>Testing Accuracy:</b><br>\n",
        "<b>72.11%</b>"
      ],
      "metadata": {
        "id": "tfmWou6Fb9Kc"
      }
    },
    {
      "cell_type": "code",
      "source": [
        "_, accuracy = model.evaluate(X_test, y_test)\n",
        "print('Accuracy: %.2f' % (accuracy*100))"
      ],
      "metadata": {
        "colab": {
          "base_uri": "https://localhost:8080/"
        },
        "id": "vzFkFGlpJa3B",
        "outputId": "c5f5e149-2c7a-4aa2-9d3e-23b0e4268ba4"
      },
      "execution_count": 39,
      "outputs": [
        {
          "output_type": "stream",
          "name": "stdout",
          "text": [
            "313/313 [==============================] - 23s 72ms/step - loss: 0.8195 - accuracy: 0.7211\n",
            "Accuracy: 72.11\n"
          ]
        }
      ]
    },
    {
      "cell_type": "code",
      "source": [
        "acc = history.history['accuracy']\n",
        "val_acc = history.history['val_accuracy']\n",
        "loss = history.history['loss']\n",
        "val_loss = history.history['val_loss']"
      ],
      "metadata": {
        "id": "abjqbT_KlD30"
      },
      "execution_count": 40,
      "outputs": []
    },
    {
      "cell_type": "code",
      "source": [
        "epochs = range(1, len(acc) + 1)\n",
        "\n",
        "plt.plot(epochs, loss, 'co', label='Training loss')\n",
        "plt.plot(epochs, val_loss, 'c', label='Validation loss')\n",
        "plt.title('Training and validation loss')\n",
        "plt.legend()\n",
        "plt.show()"
      ],
      "metadata": {
        "colab": {
          "base_uri": "https://localhost:8080/",
          "height": 281
        },
        "id": "RZVokqPtlEC8",
        "outputId": "d2a7520a-1910-4e82-e69d-fd3df88e7841"
      },
      "execution_count": 41,
      "outputs": [
        {
          "output_type": "display_data",
          "data": {
            "text/plain": [
              "<Figure size 432x288 with 1 Axes>"
            ],
            "image/png": "[encoded data removed]"
          },
          "metadata": {
            "needs_background": "light"
          }
        }
      ]
    },
    {
      "cell_type": "code",
      "source": [
        ""
      ],
      "metadata": {
        "id": "DS6DZ198lEGH"
      },
      "execution_count": null,
      "outputs": []
    },
    {
      "cell_type": "code",
      "source": [
        ""
      ],
      "metadata": {
        "id": "_d9IJGfGlEJh"
      },
      "execution_count": null,
      "outputs": []
    }
  ]
}